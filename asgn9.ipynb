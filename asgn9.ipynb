{
 "cells": [
  {
   "cell_type": "code",
   "execution_count": 2,
   "id": "18e192fe",
   "metadata": {},
   "outputs": [
    {
     "data": {
      "text/plain": [
       "'\\nit will cotain only part of the full path\\n'"
      ]
     },
     "execution_count": 2,
     "metadata": {},
     "output_type": "execute_result"
    }
   ],
   "source": [
    "#1\n",
    "\"\"\"\n",
    "it will cotain only part of the full path\n",
    "\"\"\""
   ]
  },
  {
   "cell_type": "code",
   "execution_count": 3,
   "id": "2a341e69",
   "metadata": {},
   "outputs": [
    {
     "data": {
      "text/plain": [
       "'\\nit start with base, i.e. drive in which the file is located\\n'"
      ]
     },
     "execution_count": 3,
     "metadata": {},
     "output_type": "execute_result"
    }
   ],
   "source": [
    "#2\n",
    "\"\"\"\n",
    "it start with base, i.e. drive in which the file is located\n",
    "\"\"\""
   ]
  },
  {
   "cell_type": "code",
   "execution_count": 8,
   "id": "77bb5e5e",
   "metadata": {},
   "outputs": [
    {
     "data": {
      "text/plain": [
       "'\\nimport os\\nos.getcwd()\\n\\nit will give the current working directory\\n'"
      ]
     },
     "execution_count": 8,
     "metadata": {},
     "output_type": "execute_result"
    }
   ],
   "source": [
    "#3\n",
    "\"\"\"\n",
    "import os\n",
    "os.getcwd()\n",
    "\n",
    "it will give the current working directory\n",
    "\"\"\""
   ]
  },
  {
   "cell_type": "code",
   "execution_count": 9,
   "id": "8b3c1f06",
   "metadata": {},
   "outputs": [
    {
     "data": {
      "text/plain": [
       "'\\nos.chdir()\\nit will change to directory mesioned in bracket\\n'"
      ]
     },
     "execution_count": 9,
     "metadata": {},
     "output_type": "execute_result"
    }
   ],
   "source": [
    "\"\"\"\n",
    "os.chdir()\n",
    "it will change to directory mesioned in bracket\n",
    "\"\"\""
   ]
  },
  {
   "cell_type": "code",
   "execution_count": 10,
   "id": "f9db3faa",
   "metadata": {},
   "outputs": [
    {
     "data": {
      "text/plain": [
       "'\\n. is refered to current directory\\n.. is refered to parrent directory\\n'"
      ]
     },
     "execution_count": 10,
     "metadata": {},
     "output_type": "execute_result"
    }
   ],
   "source": [
    "#4\n",
    "\"\"\"\n",
    ". is refered to current directory\n",
    ".. is refered to parrent directory\n",
    "\"\"\""
   ]
  },
  {
   "cell_type": "code",
   "execution_count": 11,
   "id": "a307081c",
   "metadata": {},
   "outputs": [
    {
     "data": {
      "text/plain": [
       "'\\nIn C:\\x08acon\\\\eggs --> dir name\\nspam.txt --> base name\\n'"
      ]
     },
     "execution_count": 11,
     "metadata": {},
     "output_type": "execute_result"
    }
   ],
   "source": [
    "#5\n",
    "\"\"\"\n",
    "In C:\\bacon\\eggs --> dir name\n",
    "spam.txt --> base name\n",
    "\"\"\""
   ]
  },
  {
   "cell_type": "code",
   "execution_count": 12,
   "id": "f5fe4e3e",
   "metadata": {},
   "outputs": [
    {
     "data": {
      "text/plain": [
       "'\\nr- read mode\\nw- write mode\\na- append mode\\n\\n'"
      ]
     },
     "execution_count": 12,
     "metadata": {},
     "output_type": "execute_result"
    }
   ],
   "source": [
    "#6\n",
    "\"\"\"\n",
    "r- read mode\n",
    "w- write mode\n",
    "a- append mode\n",
    "\n",
    "\"\"\""
   ]
  },
  {
   "cell_type": "code",
   "execution_count": 13,
   "id": "bbac4cbe",
   "metadata": {},
   "outputs": [
    {
     "data": {
      "text/plain": [
       "'\\nthe existing file will be erased and new file be overwritten\\n'"
      ]
     },
     "execution_count": 13,
     "metadata": {},
     "output_type": "execute_result"
    }
   ],
   "source": [
    "#7\n",
    "\"\"\"\n",
    "the existing file will be erased and new file be overwritten\n",
    "\"\"\""
   ]
  },
  {
   "cell_type": "code",
   "execution_count": 14,
   "id": "da420ba2",
   "metadata": {},
   "outputs": [
    {
     "data": {
      "text/plain": [
       "'\\nread() --> will return complete content as one\\nreadlines() --> it will return line by line\\n'"
      ]
     },
     "execution_count": 14,
     "metadata": {},
     "output_type": "execute_result"
    }
   ],
   "source": [
    "#8\n",
    "\"\"\"\n",
    "read() --> will return complete content as one\n",
    "readlines() --> it will return line by line\n",
    "\"\"\""
   ]
  },
  {
   "cell_type": "code",
   "execution_count": 15,
   "id": "446223af",
   "metadata": {},
   "outputs": [
    {
     "data": {
      "text/plain": [
       "'\\nit resembles to dictionary\\n'"
      ]
     },
     "execution_count": 15,
     "metadata": {},
     "output_type": "execute_result"
    }
   ],
   "source": [
    "#9\n",
    "\"\"\"\n",
    "it resembles to dictionary\n",
    "\"\"\""
   ]
  }
 ],
 "metadata": {
  "kernelspec": {
   "display_name": "Python 3 (ipykernel)",
   "language": "python",
   "name": "python3"
  },
  "language_info": {
   "codemirror_mode": {
    "name": "ipython",
    "version": 3
   },
   "file_extension": ".py",
   "mimetype": "text/x-python",
   "name": "python",
   "nbconvert_exporter": "python",
   "pygments_lexer": "ipython3",
   "version": "3.9.7"
  }
 },
 "nbformat": 4,
 "nbformat_minor": 5
}
