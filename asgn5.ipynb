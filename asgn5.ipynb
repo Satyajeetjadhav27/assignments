{
 "cells": [
  {
   "cell_type": "markdown",
   "id": "c6a2fb59",
   "metadata": {},
   "source": [
    "1. What does an empty dictionary's code look like?\n",
    "2. What is the value of a dictionary value with the key 'foo' and the value 42?\n",
    "3. What is the most significant distinction between a dictionary and a list?\n",
    "4. What happens if you try to access spam['foo'] if spam is {'bar': 100}?\n",
    "5. If a dictionary is stored in spam, what is the difference between the expressions 'cat' in spam and 'cat' in spam.keys()?\n",
    "6. If a dictionary is stored in spam, what is the difference between the expressions 'cat' in spam and 'cat' in spam.values()?\n",
    "7. What is a shortcut for the following code?\n",
    "if 'color' not in spam:\n",
    "spam['color'] = 'black'\n",
    "8. How do you \"pretty print\" dictionary values using which module and function?"
   ]
  },
  {
   "cell_type": "code",
   "execution_count": 1,
   "id": "c57d5cae",
   "metadata": {},
   "outputs": [
    {
     "data": {
      "text/plain": [
       "'\\nempty  dictionary is indicated by {}\\n'"
      ]
     },
     "execution_count": 1,
     "metadata": {},
     "output_type": "execute_result"
    }
   ],
   "source": [
    "#1\n",
    "\"\"\"\n",
    "empty  dictionary is indicated by {}\n",
    "\"\"\""
   ]
  },
  {
   "cell_type": "code",
   "execution_count": 3,
   "id": "5cab47cf",
   "metadata": {},
   "outputs": [],
   "source": [
    "#2\n",
    "d= {\"foo\":42,}"
   ]
  },
  {
   "cell_type": "code",
   "execution_count": 4,
   "id": "9a7931a2",
   "metadata": {},
   "outputs": [
    {
     "data": {
      "text/plain": [
       "'\\nthe dictionary is cosist of values assigned to perticular key in key- value pairs enclosed in {}\\nwhile\\nthe list is consist of data in closed [] \\n'"
      ]
     },
     "execution_count": 4,
     "metadata": {},
     "output_type": "execute_result"
    }
   ],
   "source": [
    "#3\n",
    "\"\"\"\n",
    "the dictionary is cosist of values assigned to perticular key in key- value pairs enclosed in {}\n",
    "while\n",
    "the list is consist of data in closed [] \n",
    "\"\"\""
   ]
  },
  {
   "cell_type": "code",
   "execution_count": 7,
   "id": "307947b1",
   "metadata": {},
   "outputs": [
    {
     "ename": "KeyError",
     "evalue": "'foo'",
     "output_type": "error",
     "traceback": [
      "\u001b[1;31m---------------------------------------------------------------------------\u001b[0m",
      "\u001b[1;31mKeyError\u001b[0m                                  Traceback (most recent call last)",
      "\u001b[1;32mC:\\Users\\SATYAJ~1\\AppData\\Local\\Temp/ipykernel_6676/2396078640.py\u001b[0m in \u001b[0;36m<module>\u001b[1;34m\u001b[0m\n\u001b[0;32m      1\u001b[0m \u001b[1;31m#4\u001b[0m\u001b[1;33m\u001b[0m\u001b[1;33m\u001b[0m\u001b[0m\n\u001b[0;32m      2\u001b[0m \u001b[0mspam\u001b[0m\u001b[1;33m=\u001b[0m \u001b[1;33m{\u001b[0m\u001b[1;34m'bar'\u001b[0m\u001b[1;33m:\u001b[0m \u001b[1;36m100\u001b[0m\u001b[1;33m,\u001b[0m\u001b[1;33m}\u001b[0m\u001b[1;33m\u001b[0m\u001b[1;33m\u001b[0m\u001b[0m\n\u001b[1;32m----> 3\u001b[1;33m \u001b[0mspam\u001b[0m\u001b[1;33m[\u001b[0m\u001b[1;34m'foo'\u001b[0m\u001b[1;33m]\u001b[0m\u001b[1;33m\u001b[0m\u001b[1;33m\u001b[0m\u001b[0m\n\u001b[0m\u001b[0;32m      4\u001b[0m \u001b[1;31m#it will throw a error as 'foo' named key is not present in the dictionary\u001b[0m\u001b[1;33m\u001b[0m\u001b[1;33m\u001b[0m\u001b[0m\n",
      "\u001b[1;31mKeyError\u001b[0m: 'foo'"
     ]
    }
   ],
   "source": [
    "#4\n",
    "spam= {'bar': 100,}\n",
    "spam['foo']\n",
    "#it will throw a error as 'foo' named key is not present in the dictionary"
   ]
  },
  {
   "cell_type": "code",
   "execution_count": 8,
   "id": "98d7210b",
   "metadata": {},
   "outputs": [
    {
     "data": {
      "text/plain": [
       "\"\\nno, both will try to check whetther 'cat' is present in dictionary as key\\n\""
      ]
     },
     "execution_count": 8,
     "metadata": {},
     "output_type": "execute_result"
    }
   ],
   "source": [
    "#5\n",
    "\"\"\"\n",
    "no, both will try to check whetther 'cat' is present in dictionary as key\n",
    "\"\"\""
   ]
  },
  {
   "cell_type": "code",
   "execution_count": 9,
   "id": "b8bfa7b4",
   "metadata": {},
   "outputs": [
    {
     "data": {
      "text/plain": [
       "\"\\nhere the 'cat' in spam will check for 'cat' as an key\\nwhile the 'cat' in spam.values for 'cat' as an values of dictionary\\n\""
      ]
     },
     "execution_count": 9,
     "metadata": {},
     "output_type": "execute_result"
    }
   ],
   "source": [
    "#6\n",
    "\"\"\"\n",
    "here the 'cat' in spam will check for 'cat' as an key\n",
    "while the 'cat' in spam.values for 'cat' as an values of dictionary\n",
    "\"\"\""
   ]
  },
  {
   "cell_type": "code",
   "execution_count": 21,
   "id": "a2d69c1a",
   "metadata": {},
   "outputs": [],
   "source": [
    "#7\n",
    "\"\"\"spam={}\n",
    "if 'color' not in spam:\n",
    "    spam['color']= 'black\n",
    "  \n",
    "instead of this\n",
    "\n",
    "spam.setdefault['color', 'black']\n",
    "    \n",
    "    '\"\"\""
   ]
  },
  {
   "cell_type": "code",
   "execution_count": 27,
   "id": "1b61f694",
   "metadata": {},
   "outputs": [
    {
     "data": {
      "text/plain": [
       "'\\npretty print is used to print complex DS in attractive way (i.e. pretty way)\\n\\n%pprint.pprint()\\n'"
      ]
     },
     "execution_count": 27,
     "metadata": {},
     "output_type": "execute_result"
    }
   ],
   "source": [
    "#8\n",
    "\"\"\"\n",
    "pretty print is used to print complex DS in attractive way (i.e. pretty way)\n",
    "\n",
    "%pprint.pprint()\n",
    "\"\"\""
   ]
  }
 ],
 "metadata": {
  "kernelspec": {
   "display_name": "Python 3 (ipykernel)",
   "language": "python",
   "name": "python3"
  },
  "language_info": {
   "codemirror_mode": {
    "name": "ipython",
    "version": 3
   },
   "file_extension": ".py",
   "mimetype": "text/x-python",
   "name": "python",
   "nbconvert_exporter": "python",
   "pygments_lexer": "ipython3",
   "version": "3.9.7"
  }
 },
 "nbformat": 4,
 "nbformat_minor": 5
}
