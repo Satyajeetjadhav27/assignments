{
 "cells": [
  {
   "cell_type": "code",
   "execution_count": 1,
   "id": "349382f7",
   "metadata": {},
   "outputs": [],
   "source": [
    "#1\n",
    "def greet():\n",
    "    return \"Hello Python\""
   ]
  },
  {
   "cell_type": "code",
   "execution_count": 2,
   "id": "d81082e7",
   "metadata": {},
   "outputs": [
    {
     "data": {
      "text/plain": [
       "'Hello Python'"
      ]
     },
     "execution_count": 2,
     "metadata": {},
     "output_type": "execute_result"
    }
   ],
   "source": [
    "greet()"
   ]
  },
  {
   "cell_type": "code",
   "execution_count": 3,
   "id": "6913965b",
   "metadata": {},
   "outputs": [],
   "source": [
    "#2\n",
    "def add_and_devide():\n",
    "    a= int(input(\"enter first(numerator) number\"))\n",
    "    b= int(input(\"enter second(denominator) number\"))\n",
    "    return (f\"addition is {a+b} and division is {a/b} \")"
   ]
  },
  {
   "cell_type": "code",
   "execution_count": 4,
   "id": "4d7cbb25",
   "metadata": {},
   "outputs": [
    {
     "name": "stdout",
     "output_type": "stream",
     "text": [
      "enter first(numerator) number78\n",
      "enter second(denominator) number45\n"
     ]
    },
    {
     "data": {
      "text/plain": [
       "'addition is 123 and division is 1.7333333333333334 '"
      ]
     },
     "execution_count": 4,
     "metadata": {},
     "output_type": "execute_result"
    }
   ],
   "source": [
    "add_and_devide()"
   ]
  },
  {
   "cell_type": "code",
   "execution_count": 5,
   "id": "0d9a7ce1",
   "metadata": {},
   "outputs": [],
   "source": [
    "#3\n",
    "def area_triangle():\n",
    "    a= int(input(\"enter base of triangle\"))\n",
    "    b= int(input(\"enter height of triangle\"))\n",
    "    return (f\"area of triagle- {0.5*a*b}\")"
   ]
  },
  {
   "cell_type": "code",
   "execution_count": 6,
   "id": "60a41916",
   "metadata": {},
   "outputs": [
    {
     "name": "stdout",
     "output_type": "stream",
     "text": [
      "enter base of triangle10\n",
      "enter height of triangle8\n"
     ]
    },
    {
     "data": {
      "text/plain": [
       "'area of triagle- 40.0'"
      ]
     },
     "execution_count": 6,
     "metadata": {},
     "output_type": "execute_result"
    }
   ],
   "source": [
    "area_triangle()"
   ]
  },
  {
   "cell_type": "code",
   "execution_count": 8,
   "id": "b24147f8",
   "metadata": {},
   "outputs": [
    {
     "name": "stdout",
     "output_type": "stream",
     "text": [
      "enter value of a-7\n",
      "enter value of b-5\n",
      "after swaping\n",
      "value of a- 5\n",
      "value of b- 7\n"
     ]
    }
   ],
   "source": [
    "#4\n",
    "a= int(input(\"enter value of a-\"))\n",
    "b= int(input(\"enter value of b-\"))\n",
    "c=a\n",
    "a=b\n",
    "b=c\n",
    "print(\"after swaping\")\n",
    "print(\"value of a-\",a)\n",
    "print(\"value of b-\",b)"
   ]
  },
  {
   "cell_type": "code",
   "execution_count": 11,
   "id": "cdb3fa0f",
   "metadata": {},
   "outputs": [],
   "source": [
    "#5\n",
    "import numpy as np"
   ]
  },
  {
   "cell_type": "code",
   "execution_count": 17,
   "id": "5ea0890b",
   "metadata": {},
   "outputs": [
    {
     "data": {
      "text/plain": [
       "26"
      ]
     },
     "execution_count": 17,
     "metadata": {},
     "output_type": "execute_result"
    }
   ],
   "source": [
    "np.random.randint(1,100)"
   ]
  }
 ],
 "metadata": {
  "kernelspec": {
   "display_name": "Python 3 (ipykernel)",
   "language": "python",
   "name": "python3"
  },
  "language_info": {
   "codemirror_mode": {
    "name": "ipython",
    "version": 3
   },
   "file_extension": ".py",
   "mimetype": "text/x-python",
   "name": "python",
   "nbconvert_exporter": "python",
   "pygments_lexer": "ipython3",
   "version": "3.9.7"
  }
 },
 "nbformat": 4,
 "nbformat_minor": 5
}
