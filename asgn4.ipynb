{
 "cells": [
  {
   "cell_type": "markdown",
   "id": "ddbe3e90",
   "metadata": {},
   "source": [
    "1> in case of python [] indicates the list"
   ]
  },
  {
   "cell_type": "code",
   "execution_count": 3,
   "id": "aabb522b",
   "metadata": {},
   "outputs": [
    {
     "data": {
      "text/plain": [
       "[2, 4, 'hello', 8, 10]"
      ]
     },
     "execution_count": 3,
     "metadata": {},
     "output_type": "execute_result"
    }
   ],
   "source": [
    "#2\n",
    "spam= [2,4,6,8,10]\n",
    "spam[2]= \"hello\" # we can assign hello as third value whose location is at positio 2 in list\n",
    "spam"
   ]
  },
  {
   "cell_type": "code",
   "execution_count": 6,
   "id": "5cb5dfd4",
   "metadata": {},
   "outputs": [
    {
     "data": {
      "text/plain": [
       "'d'"
      ]
     },
     "execution_count": 6,
     "metadata": {},
     "output_type": "execute_result"
    }
   ],
   "source": [
    "#3\n",
    "spam= ['a', 'b', 'c', 'd']\n",
    "spam[int(int('3'*2)/11)]"
   ]
  },
  {
   "cell_type": "code",
   "execution_count": 7,
   "id": "79ce7ef7",
   "metadata": {},
   "outputs": [
    {
     "data": {
      "text/plain": [
       "'d'"
      ]
     },
     "execution_count": 7,
     "metadata": {},
     "output_type": "execute_result"
    }
   ],
   "source": [
    "#4\n",
    "spam[-1]"
   ]
  },
  {
   "cell_type": "code",
   "execution_count": 8,
   "id": "ec694f00",
   "metadata": {},
   "outputs": [
    {
     "data": {
      "text/plain": [
       "['a', 'b']"
      ]
     },
     "execution_count": 8,
     "metadata": {},
     "output_type": "execute_result"
    }
   ],
   "source": [
    "#5\n",
    "spam[:2]"
   ]
  },
  {
   "cell_type": "code",
   "execution_count": 10,
   "id": "9497d654",
   "metadata": {},
   "outputs": [
    {
     "data": {
      "text/plain": [
       "1"
      ]
     },
     "execution_count": 10,
     "metadata": {},
     "output_type": "execute_result"
    }
   ],
   "source": [
    "#6\n",
    "bacon= [3.14, 'cat',11, 'cat', True]\n",
    "bacon.index('cat')\n",
    "#it will going to return only position of first 'cat'"
   ]
  },
  {
   "cell_type": "code",
   "execution_count": 16,
   "id": "50218bfd",
   "metadata": {},
   "outputs": [
    {
     "data": {
      "text/plain": [
       "[3.14, 'cat', 11, 'cat', True, 99]"
      ]
     },
     "execution_count": 16,
     "metadata": {},
     "output_type": "execute_result"
    }
   ],
   "source": [
    "#7\n",
    "bacon.append(99)\n",
    "bacon\n",
    "#it is going to add 99 as int at end of list"
   ]
  },
  {
   "cell_type": "code",
   "execution_count": 17,
   "id": "77f6626d",
   "metadata": {},
   "outputs": [
    {
     "data": {
      "text/plain": [
       "[3.14, 11, 'cat', True, 99]"
      ]
     },
     "execution_count": 17,
     "metadata": {},
     "output_type": "execute_result"
    }
   ],
   "source": [
    "#8\n",
    "bacon.remove('cat')\n",
    "bacon\n",
    "#it will remove only the 'cat' whichever has lower index"
   ]
  },
  {
   "cell_type": "code",
   "execution_count": 19,
   "id": "79c26611",
   "metadata": {},
   "outputs": [
    {
     "data": {
      "text/plain": [
       "'\\nlist concatination is done by + symbol between lists\\nlist replication is done by * symbol between lists\\n'"
      ]
     },
     "execution_count": 19,
     "metadata": {},
     "output_type": "execute_result"
    }
   ],
   "source": [
    "#9\n",
    "\"\"\"\n",
    "list concatination is done by + symbol between lists\n",
    "list replication is done by * symbol between lists\n",
    "\"\"\""
   ]
  },
  {
   "cell_type": "code",
   "execution_count": 20,
   "id": "4df217db",
   "metadata": {},
   "outputs": [
    {
     "data": {
      "text/plain": [
       "'\\nlist.append will add the value at end of list\\nlist.insert can be able to add value at any location\\n'"
      ]
     },
     "execution_count": 20,
     "metadata": {},
     "output_type": "execute_result"
    }
   ],
   "source": [
    "#10\n",
    "\"\"\"\n",
    "list.append will add the value at end of list\n",
    "list.insert can be able to add value at any location\n",
    "\"\"\""
   ]
  },
  {
   "cell_type": "code",
   "execution_count": 21,
   "id": "0fb6c8c7",
   "metadata": {},
   "outputs": [
    {
     "data": {
      "text/plain": [
       "'\\nthe list.pop() will remove the element at end of list i.e. list[-1]\\nand\\nthe list.remove() will revove the specified element\\n'"
      ]
     },
     "execution_count": 21,
     "metadata": {},
     "output_type": "execute_result"
    }
   ],
   "source": [
    "#11\n",
    "\"\"\"\n",
    "the list.pop() will remove the element at end of list i.e. list[-1]\n",
    "and\n",
    "the list.remove() will revove the specified element\n",
    "\"\"\""
   ]
  },
  {
   "cell_type": "code",
   "execution_count": 22,
   "id": "59fccec8",
   "metadata": {},
   "outputs": [
    {
     "data": {
      "text/plain": [
       "'\\nstring is collection of characters\\nlist can be collection of any type of value\\nthe items of both the string and list can be manipulated using loction of charaters or itms\\n'"
      ]
     },
     "execution_count": 22,
     "metadata": {},
     "output_type": "execute_result"
    }
   ],
   "source": [
    "#12\n",
    "\"\"\"\n",
    "string is collection of characters\n",
    "list can be collection of any type of value\n",
    "the items of both the string and list can be manipulated using loction of charaters or itms\n",
    "\"\"\""
   ]
  },
  {
   "cell_type": "code",
   "execution_count": 26,
   "id": "13c6c6b2",
   "metadata": {},
   "outputs": [
    {
     "data": {
      "text/plain": [
       "'\\n1. list is presented in []\\n   tupple is indicated in ()\\n2. list data is mutable while the tupple are immutable\\n3. list can be used where the data is changing we may need to add or delete data\\n   while the tupple can be used where data is fixed and we are just accessing the data\\n'"
      ]
     },
     "execution_count": 26,
     "metadata": {},
     "output_type": "execute_result"
    }
   ],
   "source": [
    "#13\n",
    "\"\"\"\n",
    "1. list is presented in []\n",
    "   tupple is indicated in ()\n",
    "2. list data is mutable while the tupple are immutable\n",
    "3. list can be used where the data is changing we may need to add or delete data\n",
    "   while the tupple can be used where data is fixed and we are just accessing the data\n",
    "\"\"\""
   ]
  },
  {
   "cell_type": "code",
   "execution_count": 28,
   "id": "aa3fdfee",
   "metadata": {},
   "outputs": [],
   "source": [
    "#14\n",
    "t= (42,)"
   ]
  },
  {
   "cell_type": "code",
   "execution_count": 41,
   "id": "3b83223e",
   "metadata": {},
   "outputs": [
    {
     "data": {
      "text/plain": [
       "[3.14, 11, 'cat', True, 99]"
      ]
     },
     "execution_count": 41,
     "metadata": {},
     "output_type": "execute_result"
    }
   ],
   "source": [
    "#15\n",
    "bacon"
   ]
  },
  {
   "cell_type": "code",
   "execution_count": 42,
   "id": "73dafd7b",
   "metadata": {},
   "outputs": [
    {
     "data": {
      "text/plain": [
       "(3.14, 11, 'cat', True, 99)"
      ]
     },
     "execution_count": 42,
     "metadata": {},
     "output_type": "execute_result"
    }
   ],
   "source": [
    "tuple(bacon)"
   ]
  },
  {
   "cell_type": "code",
   "execution_count": 35,
   "id": "a64099d6",
   "metadata": {},
   "outputs": [
    {
     "data": {
      "text/plain": [
       "(1, 2, 3, 46, 3, 5)"
      ]
     },
     "execution_count": 35,
     "metadata": {},
     "output_type": "execute_result"
    }
   ],
   "source": [
    "t= (1,2,3,46,3,5)\n",
    "t"
   ]
  },
  {
   "cell_type": "code",
   "execution_count": 33,
   "id": "ce7b9ebf",
   "metadata": {},
   "outputs": [
    {
     "data": {
      "text/plain": [
       "[1, 2, 3, 46, 3, 5]"
      ]
     },
     "execution_count": 33,
     "metadata": {},
     "output_type": "execute_result"
    }
   ],
   "source": [
    "list(t)"
   ]
  },
  {
   "cell_type": "code",
   "execution_count": 43,
   "id": "2fdfffb3",
   "metadata": {},
   "outputs": [
    {
     "data": {
      "text/plain": [
       "'\\nit will contain reference addrress to the list\\n'"
      ]
     },
     "execution_count": 43,
     "metadata": {},
     "output_type": "execute_result"
    }
   ],
   "source": [
    "#16\n",
    "\"\"\"\n",
    "it will contain reference addrress to the list\n",
    "\"\"\""
   ]
  },
  {
   "cell_type": "code",
   "execution_count": 44,
   "id": "18d6b0a5",
   "metadata": {},
   "outputs": [],
   "source": [
    "#17\n",
    "lst1= [[1,2,3],[4,5,6]]\n",
    "lst2= lst1.copy()"
   ]
  },
  {
   "cell_type": "code",
   "execution_count": 45,
   "id": "b331bcdb",
   "metadata": {},
   "outputs": [
    {
     "data": {
      "text/plain": [
       "[[1, 2, 3], [4, 5, 6]]"
      ]
     },
     "execution_count": 45,
     "metadata": {},
     "output_type": "execute_result"
    }
   ],
   "source": [
    "lst1"
   ]
  },
  {
   "cell_type": "code",
   "execution_count": 46,
   "id": "50aad8dd",
   "metadata": {},
   "outputs": [
    {
     "data": {
      "text/plain": [
       "[[1, 2, 3], [4, 5, 6]]"
      ]
     },
     "execution_count": 46,
     "metadata": {},
     "output_type": "execute_result"
    }
   ],
   "source": [
    "lst2"
   ]
  },
  {
   "cell_type": "code",
   "execution_count": 47,
   "id": "3fcd0b1e",
   "metadata": {},
   "outputs": [],
   "source": [
    "lst2[0][0]= 1000"
   ]
  },
  {
   "cell_type": "code",
   "execution_count": 48,
   "id": "5774bd08",
   "metadata": {},
   "outputs": [
    {
     "data": {
      "text/plain": [
       "[[1000, 2, 3], [4, 5, 6]]"
      ]
     },
     "execution_count": 48,
     "metadata": {},
     "output_type": "execute_result"
    }
   ],
   "source": [
    "lst2"
   ]
  },
  {
   "cell_type": "code",
   "execution_count": 49,
   "id": "f10b2c42",
   "metadata": {},
   "outputs": [
    {
     "data": {
      "text/plain": [
       "[[1000, 2, 3], [4, 5, 6]]"
      ]
     },
     "execution_count": 49,
     "metadata": {},
     "output_type": "execute_result"
    }
   ],
   "source": [
    "lst1"
   ]
  },
  {
   "cell_type": "code",
   "execution_count": null,
   "id": "f31b2f91",
   "metadata": {},
   "outputs": [],
   "source": [
    "#the data will refer to same location"
   ]
  },
  {
   "cell_type": "code",
   "execution_count": 51,
   "id": "dd1fa847",
   "metadata": {},
   "outputs": [],
   "source": [
    "import copy\n",
    "lst3= [[1,2,3],[4,5,6]]\n",
    "lst4= copy.deepcopy(lst3)"
   ]
  },
  {
   "cell_type": "code",
   "execution_count": 52,
   "id": "8ff0c0be",
   "metadata": {},
   "outputs": [
    {
     "data": {
      "text/plain": [
       "[[1, 2, 3], [4, 5, 6]]"
      ]
     },
     "execution_count": 52,
     "metadata": {},
     "output_type": "execute_result"
    }
   ],
   "source": [
    "lst3"
   ]
  },
  {
   "cell_type": "code",
   "execution_count": 53,
   "id": "91323849",
   "metadata": {},
   "outputs": [
    {
     "data": {
      "text/plain": [
       "[[1, 2, 3], [4, 5, 6]]"
      ]
     },
     "execution_count": 53,
     "metadata": {},
     "output_type": "execute_result"
    }
   ],
   "source": [
    "lst4"
   ]
  },
  {
   "cell_type": "code",
   "execution_count": 54,
   "id": "d074aaec",
   "metadata": {},
   "outputs": [],
   "source": [
    "lst3[0][0]= 100"
   ]
  },
  {
   "cell_type": "code",
   "execution_count": 55,
   "id": "110cda27",
   "metadata": {},
   "outputs": [
    {
     "data": {
      "text/plain": [
       "[[100, 2, 3], [4, 5, 6]]"
      ]
     },
     "execution_count": 55,
     "metadata": {},
     "output_type": "execute_result"
    }
   ],
   "source": [
    "lst3"
   ]
  },
  {
   "cell_type": "code",
   "execution_count": 56,
   "id": "ea60ed00",
   "metadata": {},
   "outputs": [
    {
     "data": {
      "text/plain": [
       "[[1, 2, 3], [4, 5, 6]]"
      ]
     },
     "execution_count": 56,
     "metadata": {},
     "output_type": "execute_result"
    }
   ],
   "source": [
    "lst4"
   ]
  },
  {
   "cell_type": "code",
   "execution_count": 57,
   "id": "208c1e6b",
   "metadata": {},
   "outputs": [],
   "source": [
    "#it will refer to differrent memory location"
   ]
  },
  {
   "cell_type": "code",
   "execution_count": 58,
   "id": "c699563f",
   "metadata": {},
   "outputs": [],
   "source": [
    "#in normal list shallow copy will be equal to deep copy"
   ]
  },
  {
   "cell_type": "code",
   "execution_count": null,
   "id": "7a4f5665",
   "metadata": {},
   "outputs": [],
   "source": []
  }
 ],
 "metadata": {
  "kernelspec": {
   "display_name": "Python 3 (ipykernel)",
   "language": "python",
   "name": "python3"
  },
  "language_info": {
   "codemirror_mode": {
    "name": "ipython",
    "version": 3
   },
   "file_extension": ".py",
   "mimetype": "text/x-python",
   "name": "python",
   "nbconvert_exporter": "python",
   "pygments_lexer": "ipython3",
   "version": "3.9.7"
  }
 },
 "nbformat": 4,
 "nbformat_minor": 5
}
