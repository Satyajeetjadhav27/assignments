{
 "cells": [
  {
   "cell_type": "code",
   "execution_count": 1,
   "id": "f92f98e6",
   "metadata": {},
   "outputs": [
    {
     "data": {
      "text/plain": [
       "'\\nthe escape character are used followed by \"\"\\nthese used to print to next line, insert tab, backspace , backlash, etc.\\n'"
      ]
     },
     "execution_count": 1,
     "metadata": {},
     "output_type": "execute_result"
    }
   ],
   "source": [
    "#1\n",
    "\"\"\"\n",
    "the escape character are used followed by \"\\\"\n",
    "these used to print to next line, insert tab, backspace , backlash, etc.\n",
    "\"\"\""
   ]
  },
  {
   "cell_type": "code",
   "execution_count": null,
   "id": "d9f64e8f",
   "metadata": {},
   "outputs": [],
   "source": [
    "#2\n",
    "\"\"\"\n",
    "\\n --> it isert to next line\n",
    "\\t --> it inserts a tab\n",
    "\"\"\""
   ]
  },
  {
   "cell_type": "code",
   "execution_count": null,
   "id": "7a6d0160",
   "metadata": {},
   "outputs": [],
   "source": [
    "#3\n",
    "\"\"\"\n",
    "backlash is encluded by by \"\\\\\"\n",
    "\"\"\""
   ]
  },
  {
   "cell_type": "code",
   "execution_count": 4,
   "id": "9f34b917",
   "metadata": {},
   "outputs": [
    {
     "name": "stdout",
     "output_type": "stream",
     "text": [
      "Howl's Moving Castle\n"
     ]
    },
    {
     "data": {
      "text/plain": [
       "'\\nit print fine, theres is no errror, because of double qoute\\n'"
      ]
     },
     "execution_count": 4,
     "metadata": {},
     "output_type": "execute_result"
    }
   ],
   "source": [
    "#4\n",
    "print(\"Howl's Moving Castle\")\n",
    "\"\"\"\n",
    "it print fine, theres is no errror, because of double qoute\n",
    "\"\"\""
   ]
  },
  {
   "cell_type": "code",
   "execution_count": null,
   "id": "781950aa",
   "metadata": {},
   "outputs": [],
   "source": [
    "#5\n",
    "\"\"\"\n",
    "if you want to write to next line without \\n, we can write multiple print lines  \n",
    "\"\"\""
   ]
  },
  {
   "cell_type": "code",
   "execution_count": 6,
   "id": "fd32acdb",
   "metadata": {},
   "outputs": [
    {
     "data": {
      "text/plain": [
       "'e'"
      ]
     },
     "execution_count": 6,
     "metadata": {},
     "output_type": "execute_result"
    }
   ],
   "source": [
    "#6\n",
    "'Hello, world!'[1]\n",
    "# it will print character at index 1"
   ]
  },
  {
   "cell_type": "code",
   "execution_count": 7,
   "id": "f301ad85",
   "metadata": {},
   "outputs": [
    {
     "data": {
      "text/plain": [
       "'Hello'"
      ]
     },
     "execution_count": 7,
     "metadata": {},
     "output_type": "execute_result"
    }
   ],
   "source": [
    "'Hello, world!'[0:5]\n",
    "#it will print from index 0 to (5-1)=4"
   ]
  },
  {
   "cell_type": "code",
   "execution_count": 8,
   "id": "56c581dc",
   "metadata": {},
   "outputs": [
    {
     "data": {
      "text/plain": [
       "'Hello'"
      ]
     },
     "execution_count": 8,
     "metadata": {},
     "output_type": "execute_result"
    }
   ],
   "source": [
    "'Hello, world!'[:5]\n",
    "#it will print from index 0 to (5-1)=4"
   ]
  },
  {
   "cell_type": "code",
   "execution_count": 10,
   "id": "0edee016",
   "metadata": {},
   "outputs": [
    {
     "data": {
      "text/plain": [
       "'lo, world!'"
      ]
     },
     "execution_count": 10,
     "metadata": {},
     "output_type": "execute_result"
    }
   ],
   "source": [
    "'Hello, world!'[3:]\n",
    "#it will print from index 3 to last word"
   ]
  },
  {
   "cell_type": "code",
   "execution_count": 12,
   "id": "340ce98e",
   "metadata": {},
   "outputs": [
    {
     "data": {
      "text/plain": [
       "'HELLO'"
      ]
     },
     "execution_count": 12,
     "metadata": {},
     "output_type": "execute_result"
    }
   ],
   "source": [
    "#7\n",
    "'Hello'.upper()\n",
    "#it will print in capital word"
   ]
  },
  {
   "cell_type": "code",
   "execution_count": 14,
   "id": "e11b94f4",
   "metadata": {},
   "outputs": [
    {
     "data": {
      "text/plain": [
       "True"
      ]
     },
     "execution_count": 14,
     "metadata": {},
     "output_type": "execute_result"
    }
   ],
   "source": [
    "'Hello'.upper().isupper()\n",
    "#it will check whether it is capital or not"
   ]
  },
  {
   "cell_type": "code",
   "execution_count": 15,
   "id": "6767aa1f",
   "metadata": {},
   "outputs": [
    {
     "data": {
      "text/plain": [
       "'hello'"
      ]
     },
     "execution_count": 15,
     "metadata": {},
     "output_type": "execute_result"
    }
   ],
   "source": [
    "'Hello'.upper().lower()\n",
    "#it will print it in lower "
   ]
  },
  {
   "cell_type": "code",
   "execution_count": 17,
   "id": "d96250a0",
   "metadata": {},
   "outputs": [
    {
     "data": {
      "text/plain": [
       "['Remember,', 'remember,', 'the', 'fifth', 'of', 'July.']"
      ]
     },
     "execution_count": 17,
     "metadata": {},
     "output_type": "execute_result"
    }
   ],
   "source": [
    "#8\n",
    "'Remember, remember, the fifth of July.'.split()\n",
    "#it will return list of word in statemet which is seperated by space"
   ]
  },
  {
   "cell_type": "code",
   "execution_count": 19,
   "id": "e82e0ddf",
   "metadata": {},
   "outputs": [
    {
     "data": {
      "text/plain": [
       "'There-can-only-one'"
      ]
     },
     "execution_count": 19,
     "metadata": {},
     "output_type": "execute_result"
    }
   ],
   "source": [
    "'-'.join('There can only one'.split())\n",
    "#it will join by hypen wherever there is space"
   ]
  },
  {
   "cell_type": "code",
   "execution_count": 20,
   "id": "cfd95978",
   "metadata": {},
   "outputs": [
    {
     "data": {
      "text/plain": [
       "'\\nleft justification --> rjust()\\nright justifiaction --> ljust()\\ncenter justification --> center()\\n'"
      ]
     },
     "execution_count": 20,
     "metadata": {},
     "output_type": "execute_result"
    }
   ],
   "source": [
    "#9\n",
    "\"\"\"\n",
    "left justification --> rjust()\n",
    "right justifiaction --> ljust()\n",
    "center justification --> center()\n",
    "\"\"\""
   ]
  },
  {
   "cell_type": "code",
   "execution_count": 21,
   "id": "0c85688e",
   "metadata": {},
   "outputs": [
    {
     "data": {
      "text/plain": [
       "'\\nfor start --> lstrip()\\nfor end --> rstrip()\\n'"
      ]
     },
     "execution_count": 21,
     "metadata": {},
     "output_type": "execute_result"
    }
   ],
   "source": [
    "#10\n",
    "\"\"\"\n",
    "for start --> lstrip()\n",
    "for end --> rstrip()\n",
    "\"\"\""
   ]
  },
  {
   "cell_type": "code",
   "execution_count": null,
   "id": "61cd5041",
   "metadata": {},
   "outputs": [],
   "source": []
  }
 ],
 "metadata": {
  "kernelspec": {
   "display_name": "Python 3 (ipykernel)",
   "language": "python",
   "name": "python3"
  },
  "language_info": {
   "codemirror_mode": {
    "name": "ipython",
    "version": 3
   },
   "file_extension": ".py",
   "mimetype": "text/x-python",
   "name": "python",
   "nbconvert_exporter": "python",
   "pygments_lexer": "ipython3",
   "version": "3.9.7"
  }
 },
 "nbformat": 4,
 "nbformat_minor": 5
}
