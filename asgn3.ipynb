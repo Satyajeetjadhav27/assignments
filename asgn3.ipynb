{
 "cells": [
  {
   "cell_type": "markdown",
   "id": "73eb688d",
   "metadata": {},
   "source": [
    "1. Why are functions advantageous to have in your programs?\n",
    "2. When does the code in a function run: when its specified or when its called?\n",
    "3. What statement creates a function?\n",
    "4. What is the difference between a function and a function call?\n",
    "5. How many global scopes are there in a Python program? How many local scopes?\n",
    "6. What happens to variables in a local scope when the function call returns?\n",
    "7. What is the concept of a return value? Is it possible to have a return value in an expression?\n",
    "8. If a function does not have a return statement, what is the return value of a call to that function?\n",
    "9. How do you make a function variable refer to the global variable?\n",
    "10. What is the data type of None?\n",
    "11. What does the sentence import areallyourpetsnamederic do?\n",
    "12. If you had a bacon() feature in a spam module, what would you call it after importing spam?\n",
    "13. What can you do to save a programme from crashing if it encounters an error?\n",
    "14. What is the purpose of the try clause? What is the purpose of the except clause?"
   ]
  },
  {
   "cell_type": "markdown",
   "id": "9b83e1bf",
   "metadata": {},
   "source": [
    "1> the functions can be defined once and can be called whenever is required.\n",
    "also usefull in case of the solving if an error will occur.\n",
    "work can be devided among the people\n",
    "easy understanding of code"
   ]
  },
  {
   "cell_type": "markdown",
   "id": "ef855b19",
   "metadata": {},
   "source": [
    "2> the function need to be called by its name when it is specified with def"
   ]
  },
  {
   "cell_type": "markdown",
   "id": "ffc224ff",
   "metadata": {},
   "source": [
    "3> the def followed with name of function with input parameters in parenthesis"
   ]
  },
  {
   "cell_type": "markdown",
   "id": "361204fa",
   "metadata": {},
   "source": [
    "4>the function is something that is defined to perform perticulaar task \\n function call is used to call a function"
   ]
  },
  {
   "cell_type": "markdown",
   "id": "56f8b364",
   "metadata": {},
   "source": [
    "5> global scope is defined globally which can be accessed anywhere in program\n",
    "and local is defined inside a function or a lambda function"
   ]
  },
  {
   "cell_type": "markdown",
   "id": "f41a2e07",
   "metadata": {},
   "source": [
    "6> the local variable will be valid for only function region and it will not have a value outside function i.e. variable is undefined"
   ]
  },
  {
   "cell_type": "markdown",
   "id": "6b3978fc",
   "metadata": {},
   "source": [
    "7> return  will give a reply of called function. yes it is possible to have return value as expression"
   ]
  },
  {
   "cell_type": "markdown",
   "id": "0ef63c06",
   "metadata": {},
   "source": [
    "8> it will return none value"
   ]
  },
  {
   "cell_type": "markdown",
   "id": "e343521d",
   "metadata": {},
   "source": [
    "9> the global defined variable can also used inside function as it is."
   ]
  },
  {
   "cell_type": "markdown",
   "id": "5ff000bf",
   "metadata": {},
   "source": [
    "10> no value"
   ]
  },
  {
   "cell_type": "markdown",
   "id": "0905c9bf",
   "metadata": {},
   "source": [
    "11> it will import a module named \"areallyourpetsnamederic\""
   ]
  },
  {
   "cell_type": "markdown",
   "id": "13dc3dbd",
   "metadata": {},
   "source": [
    "12> we ca call by spam.bacon()"
   ]
  },
  {
   "cell_type": "markdown",
   "id": "c0d19a96",
   "metadata": {},
   "source": [
    "13> exception handelling will stop whole program from handelling"
   ]
  },
  {
   "cell_type": "markdown",
   "id": "f2aec9d1",
   "metadata": {},
   "source": [
    "14> the program is written in the try block so that if an error will occur then the exception block will run, saving whole program to crash."
   ]
  },
  {
   "cell_type": "code",
   "execution_count": null,
   "id": "d68dd9b4",
   "metadata": {},
   "outputs": [],
   "source": []
  }
 ],
 "metadata": {
  "kernelspec": {
   "display_name": "Python 3 (ipykernel)",
   "language": "python",
   "name": "python3"
  },
  "language_info": {
   "codemirror_mode": {
    "name": "ipython",
    "version": 3
   },
   "file_extension": ".py",
   "mimetype": "text/x-python",
   "name": "python",
   "nbconvert_exporter": "python",
   "pygments_lexer": "ipython3",
   "version": "3.9.7"
  }
 },
 "nbformat": 4,
 "nbformat_minor": 5
}
