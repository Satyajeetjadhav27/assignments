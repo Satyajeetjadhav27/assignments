{
 "cells": [
  {
   "cell_type": "code",
   "execution_count": 20,
   "id": "162ac4fa",
   "metadata": {},
   "outputs": [
    {
     "data": {
      "text/plain": [
       "'1. In the below elements which of them are values or an expression? eg:- values can be\\ninteger or string and expressions will be mathematical operators.\\n*\\nhello\\n-87.8\\n-\\n/\\n+\\n6'"
      ]
     },
     "execution_count": 20,
     "metadata": {},
     "output_type": "execute_result"
    }
   ],
   "source": [
    "'''1. In the below elements which of them are values or an expression? eg:- values can be\n",
    "integer or string and expressions will be mathematical operators.\n",
    "*\n",
    "hello\n",
    "-87.8\n",
    "-\n",
    "/\n",
    "+\n",
    "6'''"
   ]
  },
  {
   "cell_type": "code",
   "execution_count": 18,
   "id": "72754d33",
   "metadata": {},
   "outputs": [
    {
     "name": "stdout",
     "output_type": "stream",
     "text": [
      "* this is  an expression\n",
      "hello this is a value\n",
      "-87.5 this is a value\n",
      "- this is  an expression\n",
      "/ this is  an expression\n",
      "+ this is  an expression\n",
      "6 this is a value\n"
     ]
    }
   ],
   "source": [
    "math_op= ['+','-','*','/']\n",
    "l = ['*', 'hello', -87.5, '-','/','+',6]\n",
    "for i in l:\n",
    "    if i in math_op:\n",
    "        print(i,\"this is  an expression\")\n",
    "    else:\n",
    "        print(i, \"this is a value\")"
   ]
  },
  {
   "cell_type": "code",
   "execution_count": 19,
   "id": "950791fd",
   "metadata": {},
   "outputs": [
    {
     "data": {
      "text/plain": [
       "'What is the difference between string and variable?'"
      ]
     },
     "execution_count": 19,
     "metadata": {},
     "output_type": "execute_result"
    }
   ],
   "source": [
    "'''2.What is the difference between string and variable?'''"
   ]
  },
  {
   "cell_type": "code",
   "execution_count": null,
   "id": "f35bdc59",
   "metadata": {},
   "outputs": [],
   "source": [
    "string- it is consist of characers or numeric values included in \"\".\n",
    "        its type is decribed as str in python\n",
    "\n",
    "variable- varible is designation for location where we can store a value, string, etc."
   ]
  },
  {
   "cell_type": "code",
   "execution_count": null,
   "id": "d7db61a9",
   "metadata": {},
   "outputs": [],
   "source": [
    "#3. Describe three different data types."
   ]
  },
  {
   "cell_type": "code",
   "execution_count": null,
   "id": "ccad558b",
   "metadata": {},
   "outputs": [],
   "source": [
    "string- it is data type for the line of characters or numeric values encoted within \"\"\n",
    "        eg. \"hello\", \"12345\"\n",
    "\n",
    "integer- it is data which indiacte the numeric values\n",
    "        eg. 1,2,3.\n",
    "\n",
    "floating point number- it also indicate nnumeric values but fractions.\n",
    "        eg. 1.2345, 7541.4513.\n",
    "    "
   ]
  },
  {
   "cell_type": "code",
   "execution_count": null,
   "id": "d1d6bf9f",
   "metadata": {},
   "outputs": [],
   "source": [
    "'''4. What is an expression made up of? What do all expressions do?'''"
   ]
  },
  {
   "cell_type": "code",
   "execution_count": null,
   "id": "3bfc2148",
   "metadata": {},
   "outputs": [],
   "source": [
    "an expression are made of the numeric values and numerical operators and variables,\n",
    "used to find the values of constant or a variable"
   ]
  },
  {
   "cell_type": "code",
   "execution_count": null,
   "id": "edeb58f3",
   "metadata": {},
   "outputs": [],
   "source": [
    "\"\"\"5. This assignment statements, like spam = 10. What is the difference between an\n",
    "expression and a statement?\"\"\""
   ]
  },
  {
   "cell_type": "code",
   "execution_count": null,
   "id": "db9a4812",
   "metadata": {},
   "outputs": [],
   "source": [
    "an expression are made of the numeric values and numerical operators and variables\n",
    "while the statement is used to do perticular task."
   ]
  },
  {
   "cell_type": "code",
   "execution_count": null,
   "id": "c166e3db",
   "metadata": {},
   "outputs": [],
   "source": [
    "'''6. After running the following code, what does the variable bacon contain?\n",
    "bacon = 22\n",
    "bacon + 1'''"
   ]
  },
  {
   "cell_type": "code",
   "execution_count": 24,
   "id": "c5516a88",
   "metadata": {},
   "outputs": [
    {
     "data": {
      "text/plain": [
       "23"
      ]
     },
     "execution_count": 24,
     "metadata": {},
     "output_type": "execute_result"
    }
   ],
   "source": [
    "bacon= 22\n",
    "bacon+1\n",
    "#the baacon is variable this will contain a value 22 intially but now 1 is added so its value become 23."
   ]
  },
  {
   "cell_type": "code",
   "execution_count": null,
   "id": "03fa3e09",
   "metadata": {},
   "outputs": [],
   "source": [
    "'''7. What should the values of the following two terms be?\n",
    "&#39;spam&#39; + &#39;spamspam&#39;\n",
    "&#39;spam&#39; * 3'''"
   ]
  },
  {
   "cell_type": "code",
   "execution_count": 25,
   "id": "cad1c7e0",
   "metadata": {},
   "outputs": [
    {
     "data": {
      "text/plain": [
       "'spamspamspam'"
      ]
     },
     "execution_count": 25,
     "metadata": {},
     "output_type": "execute_result"
    }
   ],
   "source": [
    "#both will give a same value\n",
    "'spam'+'spamspam'"
   ]
  },
  {
   "cell_type": "code",
   "execution_count": 26,
   "id": "617c5a7d",
   "metadata": {},
   "outputs": [
    {
     "data": {
      "text/plain": [
       "'spamspamspam'"
      ]
     },
     "execution_count": 26,
     "metadata": {},
     "output_type": "execute_result"
    }
   ],
   "source": [
    "'spam'*3"
   ]
  },
  {
   "cell_type": "code",
   "execution_count": null,
   "id": "a9db8299",
   "metadata": {},
   "outputs": [],
   "source": [
    "'''8. Why is eggs a valid variable name while 100 is invalid?'''"
   ]
  },
  {
   "cell_type": "code",
   "execution_count": null,
   "id": "bd830711",
   "metadata": {},
   "outputs": [],
   "source": [
    "'''the eggs is valid because it is a word and\n",
    "we cant use 100 as variable name because its an integer'''"
   ]
  },
  {
   "cell_type": "code",
   "execution_count": null,
   "id": "0140b6e3",
   "metadata": {},
   "outputs": [],
   "source": [
    "'''9. What three functions can be used to get the integer, floating-point number, or string\n",
    "version of a value?'''"
   ]
  },
  {
   "cell_type": "code",
   "execution_count": null,
   "id": "ea3a7096",
   "metadata": {},
   "outputs": [],
   "source": [
    "for given value to get integer, floating point number, string-\n",
    "int(),\n",
    "float(),\n",
    "str(),\n",
    "respectively."
   ]
  },
  {
   "cell_type": "code",
   "execution_count": null,
   "id": "5cc9ebe0",
   "metadata": {},
   "outputs": [],
   "source": [
    "'''10. Why does this expression cause an error? How can you fix it?\n",
    "&#39;I have eaten &#39; + 99 + &#39; burritos.&#39;'''"
   ]
  },
  {
   "cell_type": "code",
   "execution_count": null,
   "id": "786922ad",
   "metadata": {},
   "outputs": [],
   "source": [
    "#it is neccesary to have same data types to able to concatinate\n",
    "# so we need to put 99 as '99'"
   ]
  },
  {
   "cell_type": "code",
   "execution_count": 28,
   "id": "e148b06f",
   "metadata": {},
   "outputs": [
    {
     "data": {
      "text/plain": [
       "'i have eaten 99 burritos'"
      ]
     },
     "execution_count": 28,
     "metadata": {},
     "output_type": "execute_result"
    }
   ],
   "source": [
    "'i have eaten '+'99'+' burritos'"
   ]
  },
  {
   "cell_type": "code",
   "execution_count": null,
   "id": "a14ff9a8",
   "metadata": {},
   "outputs": [],
   "source": []
  }
 ],
 "metadata": {
  "kernelspec": {
   "display_name": "Python 3 (ipykernel)",
   "language": "python",
   "name": "python3"
  },
  "language_info": {
   "codemirror_mode": {
    "name": "ipython",
    "version": 3
   },
   "file_extension": ".py",
   "mimetype": "text/x-python",
   "name": "python",
   "nbconvert_exporter": "python",
   "pygments_lexer": "ipython3",
   "version": "3.9.7"
  }
 },
 "nbformat": 4,
 "nbformat_minor": 5
}
