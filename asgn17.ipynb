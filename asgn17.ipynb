{
 "cells": [
  {
   "cell_type": "code",
   "execution_count": 1,
   "id": "893e63f2",
   "metadata": {},
   "outputs": [
    {
     "name": "stdout",
     "output_type": "stream",
     "text": [
      "input a value: 4\n",
      "too low\n"
     ]
    }
   ],
   "source": [
    "#1\n",
    "guess_me = 7\n",
    "guess= int(input(\"input a value: \"))\n",
    "if guess< guess_me :\n",
    "    print(\"too low\")\n",
    "elif guess > guess_me:\n",
    "    print(\"too high\")\n",
    "else:\n",
    "    print(\"just right\")"
   ]
  },
  {
   "cell_type": "code",
   "execution_count": 2,
   "id": "4af91106",
   "metadata": {},
   "outputs": [
    {
     "name": "stdout",
     "output_type": "stream",
     "text": [
      "too low\n",
      "too low\n",
      "too low\n",
      "too low\n",
      "too low\n",
      "too low\n",
      "found it!\n"
     ]
    }
   ],
   "source": [
    "#2\n",
    "guess_me = 7\n",
    "start= 1\n",
    "while True:\n",
    "    if start < guess_me:\n",
    "        print(\"too low\")\n",
    "    elif start == guess_me:\n",
    "        print(\"found it!\")\n",
    "        break\n",
    "    elif start> guess_me:\n",
    "        print(\"oops\")\n",
    "        break\n",
    "    start = start +1      "
   ]
  },
  {
   "cell_type": "code",
   "execution_count": 3,
   "id": "30ef92e3",
   "metadata": {},
   "outputs": [
    {
     "name": "stdout",
     "output_type": "stream",
     "text": [
      "3\n",
      "2\n",
      "1\n",
      "0\n"
     ]
    }
   ],
   "source": [
    "#3\n",
    "l1= [3,2,1,0]\n",
    "for i in l1:\n",
    "    print(i)"
   ]
  },
  {
   "cell_type": "code",
   "execution_count": 11,
   "id": "db6ae985",
   "metadata": {},
   "outputs": [
    {
     "data": {
      "text/plain": [
       "[0, 2, 4, 6, 8]"
      ]
     },
     "execution_count": 11,
     "metadata": {},
     "output_type": "execute_result"
    }
   ],
   "source": [
    "#4\n",
    "l2= [i for i in range(10)\n",
    "    if i%2==0]\n",
    "l2"
   ]
  },
  {
   "cell_type": "code",
   "execution_count": 12,
   "id": "433380f9",
   "metadata": {},
   "outputs": [
    {
     "data": {
      "text/plain": [
       "{0: 0, 1: 1, 2: 4, 3: 9, 4: 16, 5: 25, 6: 36, 7: 49, 8: 64, 9: 81}"
      ]
     },
     "execution_count": 12,
     "metadata": {},
     "output_type": "execute_result"
    }
   ],
   "source": [
    "#5\n",
    "d1= {i: i*i for i in range(10)\n",
    "    }\n",
    "d1"
   ]
  },
  {
   "cell_type": "code",
   "execution_count": 13,
   "id": "006ddaad",
   "metadata": {},
   "outputs": [
    {
     "data": {
      "text/plain": [
       "{1, 3, 5, 7, 9}"
      ]
     },
     "execution_count": 13,
     "metadata": {},
     "output_type": "execute_result"
    }
   ],
   "source": [
    "#6\n",
    "set1={i for i in range(10)\n",
    "     if i%2 != 0}\n",
    "set1"
   ]
  },
  {
   "cell_type": "code",
   "execution_count": 16,
   "id": "5436e017",
   "metadata": {},
   "outputs": [
    {
     "name": "stdout",
     "output_type": "stream",
     "text": [
      "got 0\n",
      "got 1\n",
      "got 2\n",
      "got 3\n",
      "got 4\n",
      "got 5\n",
      "got 6\n",
      "got 7\n",
      "got 8\n",
      "got 9\n"
     ]
    }
   ],
   "source": [
    "#7\n",
    "st= (\"got \"+ str(i) for i in range(10))\n",
    "for j in st:\n",
    "    print(j)"
   ]
  },
  {
   "cell_type": "code",
   "execution_count": 25,
   "id": "76ad3f95",
   "metadata": {},
   "outputs": [
    {
     "data": {
      "text/plain": [
       "['Harry', 'Ron', 'Hermione']"
      ]
     },
     "execution_count": 25,
     "metadata": {},
     "output_type": "execute_result"
    }
   ],
   "source": [
    "#8\n",
    "def good():\n",
    "    l= [\"Harry\", \"Ron\", \"Hermione\"]\n",
    "    return l\n",
    "\n",
    "good()"
   ]
  },
  {
   "cell_type": "code",
   "execution_count": 37,
   "id": "13cfc2b3",
   "metadata": {},
   "outputs": [
    {
     "name": "stdout",
     "output_type": "stream",
     "text": [
      "5\n"
     ]
    }
   ],
   "source": [
    "#9\n",
    "start=1\n",
    "odd= [i for i in range(10) if i%2 != 0]\n",
    "for i in odd:\n",
    "    if start == 3:\n",
    "        print(i)\n",
    "    start+= 1"
   ]
  },
  {
   "cell_type": "code",
   "execution_count": 38,
   "id": "f803080e",
   "metadata": {},
   "outputs": [
    {
     "name": "stdout",
     "output_type": "stream",
     "text": [
      "Caught an Oops \n"
     ]
    }
   ],
   "source": [
    "#10\n",
    "class expt(Exception):\n",
    "    pass\n",
    "def great(a):\n",
    "    if a>10:\n",
    "        raise expt\n",
    "\n",
    "try:\n",
    "    great(50)\n",
    "except Exception as x:\n",
    "    print(\"Caught an Oops \")"
   ]
  },
  {
   "cell_type": "code",
   "execution_count": 44,
   "id": "73bd6af6",
   "metadata": {},
   "outputs": [
    {
     "data": {
      "text/plain": [
       "{'Creature of habit': 'A nun turns into a monster',\n",
       " 'Crewel fate': 'A haunted yarn shop'}"
      ]
     },
     "execution_count": 44,
     "metadata": {},
     "output_type": "execute_result"
    }
   ],
   "source": [
    "#11\n",
    "titles= ['Creature of habit', 'Crewel fate']\n",
    "plots = ['A nun turns into a monster', 'A haunted yarn shop']\n",
    "\n",
    "movies= {}\n",
    "for i,j in zip(titles, plots):\n",
    "    movies[i]= j\n",
    "movies"
   ]
  }
 ],
 "metadata": {
  "kernelspec": {
   "display_name": "Python 3 (ipykernel)",
   "language": "python",
   "name": "python3"
  },
  "language_info": {
   "codemirror_mode": {
    "name": "ipython",
    "version": 3
   },
   "file_extension": ".py",
   "mimetype": "text/x-python",
   "name": "python",
   "nbconvert_exporter": "python",
   "pygments_lexer": "ipython3",
   "version": "3.9.7"
  }
 },
 "nbformat": 4,
 "nbformat_minor": 5
}
